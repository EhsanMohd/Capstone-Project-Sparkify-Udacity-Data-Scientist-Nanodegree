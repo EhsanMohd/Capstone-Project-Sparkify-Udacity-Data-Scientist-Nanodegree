{
 "cells": [
  {
   "cell_type": "markdown",
   "metadata": {},
   "source": [
    "# Sparkify Project Workspace\n",
    "This workspace contains a tiny subset (128MB) of the full dataset available (12GB). Feel free to use this workspace to build your project, or to explore a smaller subset with Spark before deploying your cluster on the cloud. Instructions for setting up your Spark cluster is included in the last lesson of the Extracurricular Spark Course content.\n",
    "\n",
    "You can follow the steps below to guide your data analysis and model building portion of this project."
   ]
  },
  {
   "cell_type": "code",
   "execution_count": 16,
   "metadata": {},
   "outputs": [],
   "source": [
    "# import libraries\n",
    "#pandas for dataframe manipulation \n",
    "import pandas as pd \n",
    "#numpy for numerical processing \n",
    "import numpy as npp\n",
    "#matplotlib for plotting \n",
    "import matplotlib.pyplot as plt\n",
    "%matplotlib inline \n",
    "#seaborn for visualization \n",
    "import seaborn as sns \n",
    "#to use spark functions in Python \n",
    "import pyspark \n",
    "#sys and time for house keeping \n",
    "import sys \n",
    "import time \n"
   ]
  },
  {
   "cell_type": "code",
   "execution_count": 17,
   "metadata": {},
   "outputs": [],
   "source": [
    "sns.set()"
   ]
  },
  {
   "cell_type": "code",
   "execution_count": 18,
   "metadata": {},
   "outputs": [],
   "source": [
    "#creating a sparksession in which we shall use spark functions and perform data analysis \n",
    "from pyspark.sql import SparkSession"
   ]
  },
  {
   "cell_type": "code",
   "execution_count": 19,
   "metadata": {},
   "outputs": [],
   "source": [
    "#name of the session object is \"spark\" with appName as \"Capstone Project: Sparkify \"\n",
    "spark = SparkSession \\\n",
    "    .builder \\\n",
    "    .appName(\"Capstone Project: Sparkify \") \\\n",
    "    .getOrCreate()"
   ]
  },
  {
   "cell_type": "markdown",
   "metadata": {},
   "source": [
    "# Load and Clean Dataset\n",
    "In this workspace, the mini-dataset file is `mini_sparkify_event_data.json`. Load and clean the dataset, checking for invalid or missing data - for example, records without userids or sessionids. "
   ]
  },
  {
   "cell_type": "code",
   "execution_count": 20,
   "metadata": {},
   "outputs": [],
   "source": [
    "#using read.json function with the given file name we read the data \n",
    "df = spark.read.json(\"mini_sparkify_event_data.json\")"
   ]
  },
  {
   "cell_type": "markdown",
   "metadata": {},
   "source": [
    "# Exploratory Data Analysis\n",
    "When you're working with the full dataset, perform EDA by loading a small subset of the data and doing basic manipulations within Spark. In this workspace, you are already provided a small subset of data you can explore.\n",
    "\n",
    "### Define Churn\n",
    "\n",
    "Once you've done some preliminary analysis, create a column `Churn` to use as the label for your model. I suggest using the `Cancellation Confirmation` events to define your churn, which happen for both paid and free users. As a bonus task, you can also look into the `Downgrade` events.\n",
    "\n",
    "### Explore Data\n",
    "Once you've defined churn, perform some exploratory data analysis to observe the behavior for users who stayed vs users who churned. You can start by exploring aggregates on these two groups of users, observing how much of a specific action they experienced per a certain time unit or number of songs played."
   ]
  },
  {
   "cell_type": "code",
   "execution_count": 21,
   "metadata": {},
   "outputs": [
    {
     "data": {
      "text/plain": [
       "DataFrame[summary: string, artist: string, auth: string, firstName: string, gender: string, itemInSession: string, lastName: string, length: string, level: string, location: string, method: string, page: string, registration: string, sessionId: string, song: string, status: string, ts: string, userAgent: string, userId: string]"
      ]
     },
     "execution_count": 21,
     "metadata": {},
     "output_type": "execute_result"
    }
   ],
   "source": [
    "#describe function to understand the columns and their data type \n",
    "df.describe()"
   ]
  },
  {
   "cell_type": "code",
   "execution_count": 22,
   "metadata": {},
   "outputs": [
    {
     "data": {
      "text/plain": [
       "[Row(artist='Martha Tilston', auth='Logged In', firstName='Colin', gender='M', itemInSession=50, lastName='Freeman', length=277.89016, level='paid', location='Bakersfield, CA', method='PUT', page='NextSong', registration=1538173362000, sessionId=29, song='Rockpools', status=200, ts=1538352117000, userAgent='Mozilla/5.0 (Windows NT 6.1; WOW64; rv:31.0) Gecko/20100101 Firefox/31.0', userId='30'),\n",
       " Row(artist='Five Iron Frenzy', auth='Logged In', firstName='Micah', gender='M', itemInSession=79, lastName='Long', length=236.09424, level='free', location='Boston-Cambridge-Newton, MA-NH', method='PUT', page='NextSong', registration=1538331630000, sessionId=8, song='Canada', status=200, ts=1538352180000, userAgent='\"Mozilla/5.0 (Windows NT 6.1; WOW64) AppleWebKit/537.36 (KHTML, like Gecko) Chrome/37.0.2062.103 Safari/537.36\"', userId='9'),\n",
       " Row(artist='Adam Lambert', auth='Logged In', firstName='Colin', gender='M', itemInSession=51, lastName='Freeman', length=282.8273, level='paid', location='Bakersfield, CA', method='PUT', page='NextSong', registration=1538173362000, sessionId=29, song='Time For Miracles', status=200, ts=1538352394000, userAgent='Mozilla/5.0 (Windows NT 6.1; WOW64; rv:31.0) Gecko/20100101 Firefox/31.0', userId='30'),\n",
       " Row(artist='Enigma', auth='Logged In', firstName='Micah', gender='M', itemInSession=80, lastName='Long', length=262.71302, level='free', location='Boston-Cambridge-Newton, MA-NH', method='PUT', page='NextSong', registration=1538331630000, sessionId=8, song='Knocking On Forbidden Doors', status=200, ts=1538352416000, userAgent='\"Mozilla/5.0 (Windows NT 6.1; WOW64) AppleWebKit/537.36 (KHTML, like Gecko) Chrome/37.0.2062.103 Safari/537.36\"', userId='9'),\n",
       " Row(artist='Daft Punk', auth='Logged In', firstName='Colin', gender='M', itemInSession=52, lastName='Freeman', length=223.60771, level='paid', location='Bakersfield, CA', method='PUT', page='NextSong', registration=1538173362000, sessionId=29, song='Harder Better Faster Stronger', status=200, ts=1538352676000, userAgent='Mozilla/5.0 (Windows NT 6.1; WOW64; rv:31.0) Gecko/20100101 Firefox/31.0', userId='30'),\n",
       " Row(artist='The All-American Rejects', auth='Logged In', firstName='Micah', gender='M', itemInSession=81, lastName='Long', length=208.29995, level='free', location='Boston-Cambridge-Newton, MA-NH', method='PUT', page='NextSong', registration=1538331630000, sessionId=8, song=\"Don't Leave Me\", status=200, ts=1538352678000, userAgent='\"Mozilla/5.0 (Windows NT 6.1; WOW64) AppleWebKit/537.36 (KHTML, like Gecko) Chrome/37.0.2062.103 Safari/537.36\"', userId='9'),\n",
       " Row(artist='The Velvet Underground / Nico', auth='Logged In', firstName='Micah', gender='M', itemInSession=82, lastName='Long', length=260.46649, level='free', location='Boston-Cambridge-Newton, MA-NH', method='PUT', page='NextSong', registration=1538331630000, sessionId=8, song='Run Run Run', status=200, ts=1538352886000, userAgent='\"Mozilla/5.0 (Windows NT 6.1; WOW64) AppleWebKit/537.36 (KHTML, like Gecko) Chrome/37.0.2062.103 Safari/537.36\"', userId='9'),\n",
       " Row(artist='Starflyer 59', auth='Logged In', firstName='Colin', gender='M', itemInSession=53, lastName='Freeman', length=185.44281, level='paid', location='Bakersfield, CA', method='PUT', page='NextSong', registration=1538173362000, sessionId=29, song='Passengers (Old Album Version)', status=200, ts=1538352899000, userAgent='Mozilla/5.0 (Windows NT 6.1; WOW64; rv:31.0) Gecko/20100101 Firefox/31.0', userId='30'),\n",
       " Row(artist=None, auth='Logged In', firstName='Colin', gender='M', itemInSession=54, lastName='Freeman', length=None, level='paid', location='Bakersfield, CA', method='PUT', page='Add to Playlist', registration=1538173362000, sessionId=29, song=None, status=200, ts=1538352905000, userAgent='Mozilla/5.0 (Windows NT 6.1; WOW64; rv:31.0) Gecko/20100101 Firefox/31.0', userId='30'),\n",
       " Row(artist='Frumpies', auth='Logged In', firstName='Colin', gender='M', itemInSession=55, lastName='Freeman', length=134.47791, level='paid', location='Bakersfield, CA', method='PUT', page='NextSong', registration=1538173362000, sessionId=29, song='Fuck Kitty', status=200, ts=1538353084000, userAgent='Mozilla/5.0 (Windows NT 6.1; WOW64; rv:31.0) Gecko/20100101 Firefox/31.0', userId='30')]"
      ]
     },
     "execution_count": 22,
     "metadata": {},
     "output_type": "execute_result"
    }
   ],
   "source": [
    "#the top 10 rows of the data are displayed using head function \n",
    "df.head(10)"
   ]
  },
  {
   "cell_type": "code",
   "execution_count": 23,
   "metadata": {},
   "outputs": [
    {
     "data": {
      "text/plain": [
       "286500"
      ]
     },
     "execution_count": 23,
     "metadata": {},
     "output_type": "execute_result"
    }
   ],
   "source": [
    "#the number of rows in the data are known using count \n",
    "df.count()"
   ]
  },
  {
   "cell_type": "code",
   "execution_count": 24,
   "metadata": {},
   "outputs": [],
   "source": [
    "#these functions can be used for pandas dataframe ibject and not spark dataframe object \n",
    "#df.info()\n",
    "#df.tail()\n",
    "\n",
    "#df.shape()\n",
    "#df.size()\n",
    "\n",
    "#df.isnull()\n",
    "#df.isna()\n",
    "\n",
    "#df.duplicated()\n"
   ]
  },
  {
   "cell_type": "code",
   "execution_count": 25,
   "metadata": {},
   "outputs": [
    {
     "data": {
      "text/plain": [
       "DataFrame[artist: string, auth: string, firstName: string, gender: string, itemInSession: bigint, lastName: string, length: double, level: string, location: string, method: string, page: string, registration: bigint, sessionId: bigint, song: string, status: bigint, ts: bigint, userAgent: string, userId: string]"
      ]
     },
     "execution_count": 25,
     "metadata": {},
     "output_type": "execute_result"
    }
   ],
   "source": [
    "df.sample(0.2)"
   ]
  },
  {
   "cell_type": "code",
   "execution_count": 26,
   "metadata": {},
   "outputs": [
    {
     "data": {
      "text/plain": [
       "['artist',\n",
       " 'auth',\n",
       " 'firstName',\n",
       " 'gender',\n",
       " 'itemInSession',\n",
       " 'lastName',\n",
       " 'length',\n",
       " 'level',\n",
       " 'location',\n",
       " 'method',\n",
       " 'page',\n",
       " 'registration',\n",
       " 'sessionId',\n",
       " 'song',\n",
       " 'status',\n",
       " 'ts',\n",
       " 'userAgent',\n",
       " 'userId']"
      ]
     },
     "execution_count": 26,
     "metadata": {},
     "output_type": "execute_result"
    }
   ],
   "source": [
    "#the names of the columns in the dataframe \n",
    "df.columns"
   ]
  },
  {
   "cell_type": "code",
   "execution_count": 27,
   "metadata": {},
   "outputs": [
    {
     "data": {
      "text/plain": [
       "[('artist', 'string'),\n",
       " ('auth', 'string'),\n",
       " ('firstName', 'string'),\n",
       " ('gender', 'string'),\n",
       " ('itemInSession', 'bigint'),\n",
       " ('lastName', 'string'),\n",
       " ('length', 'double'),\n",
       " ('level', 'string'),\n",
       " ('location', 'string'),\n",
       " ('method', 'string'),\n",
       " ('page', 'string'),\n",
       " ('registration', 'bigint'),\n",
       " ('sessionId', 'bigint'),\n",
       " ('song', 'string'),\n",
       " ('status', 'bigint'),\n",
       " ('ts', 'bigint'),\n",
       " ('userAgent', 'string'),\n",
       " ('userId', 'string')]"
      ]
     },
     "execution_count": 27,
     "metadata": {},
     "output_type": "execute_result"
    }
   ],
   "source": [
    "#the data type of data in each column \n",
    "df.dtypes"
   ]
  },
  {
   "cell_type": "code",
   "execution_count": 28,
   "metadata": {},
   "outputs": [],
   "source": [
    "#drop the rows with NAN as userId or sessionId\n",
    "df = df.dropna(how = 'any', subset = [\"userId\", \"sessionId\"])"
   ]
  },
  {
   "cell_type": "code",
   "execution_count": 30,
   "metadata": {},
   "outputs": [],
   "source": [
    "#defining churn using the page column \n",
    "#visited the page of cancellation \n",
    "\n",
    "#df[\"page\"].unique()"
   ]
  },
  {
   "cell_type": "code",
   "execution_count": 31,
   "metadata": {},
   "outputs": [
    {
     "data": {
      "text/plain": [
       "52"
      ]
     },
     "execution_count": 31,
     "metadata": {},
     "output_type": "execute_result"
    }
   ],
   "source": [
    "#count of the users who cancelled the subscription \n",
    "df.where(df.page==\"Cancellation Confirmation\").count()\n",
    "# 52 "
   ]
  },
  {
   "cell_type": "code",
   "execution_count": 32,
   "metadata": {},
   "outputs": [],
   "source": [
    "#import all pyspark sql functions \n",
    "from pyspark.sql.functions import isnan, count, when, col, desc, udf, col, sort_array, asc, avg\n",
    "from pyspark.sql.functions import sum as Fsum"
   ]
  },
  {
   "cell_type": "code",
   "execution_count": 33,
   "metadata": {},
   "outputs": [],
   "source": [
    "#import sql data types \n",
    "from pyspark.sql.types import StringType, IntegerType"
   ]
  },
  {
   "cell_type": "code",
   "execution_count": 34,
   "metadata": {},
   "outputs": [],
   "source": [
    "#create a column for the users with cancellation/not cancellation confirmation \n",
    "#as churn\n",
    "churn_event = udf(lambda x: 1 if x == \"Cancellation Confirmation\" else 0, IntegerType())\n"
   ]
  },
  {
   "cell_type": "code",
   "execution_count": 36,
   "metadata": {},
   "outputs": [],
   "source": [
    "#df[\"churn\"] = df[\"page\"].apply(churn_event)"
   ]
  },
  {
   "cell_type": "code",
   "execution_count": 37,
   "metadata": {},
   "outputs": [],
   "source": [
    "#df = spark.createDataFrame(df)"
   ]
  },
  {
   "cell_type": "code",
   "execution_count": 38,
   "metadata": {},
   "outputs": [],
   "source": [
    "df = df.withColumn(\"churn\", churn_event(df.page))"
   ]
  },
  {
   "cell_type": "code",
   "execution_count": 39,
   "metadata": {},
   "outputs": [
    {
     "data": {
      "text/plain": [
       "Row(artist='Martha Tilston', auth='Logged In', firstName='Colin', gender='M', itemInSession=50, lastName='Freeman', length=277.89016, level='paid', location='Bakersfield, CA', method='PUT', page='NextSong', registration=1538173362000, sessionId=29, song='Rockpools', status=200, ts=1538352117000, userAgent='Mozilla/5.0 (Windows NT 6.1; WOW64; rv:31.0) Gecko/20100101 Firefox/31.0', userId='30', churn=0)"
      ]
     },
     "execution_count": 39,
     "metadata": {},
     "output_type": "execute_result"
    }
   ],
   "source": [
    "df.head()"
   ]
  },
  {
   "cell_type": "code",
   "execution_count": null,
   "metadata": {},
   "outputs": [],
   "source": [
    "#a lot of other exploratory analysis can be done "
   ]
  },
  {
   "cell_type": "markdown",
   "metadata": {},
   "source": [
    "# Feature Engineering\n",
    "Once you've familiarized yourself with the data, build out the features you find promising to train your model on. To work with the full dataset, you can follow the following steps.\n",
    "- Write a script to extract the necessary features from the smaller subset of data\n",
    "- Ensure that your script is scalable, using the best practices discussed in Lesson 3\n",
    "- Try your script on the full data set, debugging your script if necessary\n",
    "\n",
    "If you are working in the classroom workspace, you can just extract features based on the small subset of data contained here. Be sure to transfer over this work to the larger dataset when you work on your Spark cluster."
   ]
  },
  {
   "cell_type": "code",
   "execution_count": 40,
   "metadata": {},
   "outputs": [],
   "source": [
    "#importing more spark functions for further processing \n",
    "from pyspark.sql.window import Window\n",
    "from pyspark.sql import Row\n",
    "from pyspark.sql.functions import *"
   ]
  },
  {
   "cell_type": "code",
   "execution_count": 41,
   "metadata": {},
   "outputs": [
    {
     "name": "stdout",
     "output_type": "stream",
     "text": [
      "+------+-----+-------------+----+\n",
      "|userId|level|           ts|Rank|\n",
      "+------+-----+-------------+----+\n",
      "|      | paid|1543622241000|   1|\n",
      "|      | paid|1543622240000|   2|\n",
      "|      | paid|1543622135000|   3|\n",
      "|      | free|1543620936000|   4|\n",
      "|      | paid|1543619531000|   5|\n",
      "|      | paid|1543619530000|   6|\n",
      "|      | paid|1543619485000|   7|\n",
      "|      | paid|1543619484000|   8|\n",
      "|      | paid|1543619475000|   9|\n",
      "|      | paid|1543619432000|  10|\n",
      "|      | paid|1543616907000|  11|\n",
      "|      | paid|1543616906000|  12|\n",
      "|      | free|1543616744000|  13|\n",
      "|      | free|1543616699000|  14|\n",
      "|      | paid|1543615206000|  15|\n",
      "|      | paid|1543615205000|  16|\n",
      "|      | free|1543612266000|  17|\n",
      "|      | free|1543612265000|  18|\n",
      "|      | free|1543612237000|  19|\n",
      "|      | paid|1543608666000|  20|\n",
      "+------+-----+-------------+----+\n",
      "only showing top 20 rows\n",
      "\n"
     ]
    }
   ],
   "source": [
    "#feature 1 = ts\n",
    "df2 = df.select(['userId', 'level', 'ts']).dropDuplicates().sort('userId')\n",
    "w = Window.partitionBy(\"userId\").orderBy(desc(\"ts\"))\n",
    "df2 = df2.withColumn(\"Rank\", dense_rank().over(w))\n",
    "df2.show()"
   ]
  },
  {
   "cell_type": "code",
   "execution_count": 42,
   "metadata": {},
   "outputs": [
    {
     "name": "stdout",
     "output_type": "stream",
     "text": [
      "+------+-----+------+\n",
      "|userId|level|level1|\n",
      "+------+-----+------+\n",
      "|      | paid|     1|\n",
      "|    10| paid|     1|\n",
      "|   100| paid|     1|\n",
      "|100001| free|     0|\n",
      "|100002| paid|     1|\n",
      "|100003| free|     0|\n",
      "|100004| paid|     1|\n",
      "|100005| free|     0|\n",
      "|100006| free|     0|\n",
      "|100007| paid|     1|\n",
      "|100008| free|     0|\n",
      "|100009| free|     0|\n",
      "|100010| free|     0|\n",
      "|100011| free|     0|\n",
      "|100012| free|     0|\n",
      "|100013| paid|     1|\n",
      "|100014| paid|     1|\n",
      "|100015| paid|     1|\n",
      "|100016| free|     0|\n",
      "|100017| free|     0|\n",
      "+------+-----+------+\n",
      "only showing top 20 rows\n",
      "\n"
     ]
    }
   ],
   "source": [
    "#feature 2 = level i.e. whether a paid user or user without subcription \n",
    "level1 = df2.filter(df2.Rank == 1).drop(df2.Rank)\n",
    "level1 = level1.drop('ts')\n",
    "level1 = level1.withColumn('level1', when(col('level') == 'paid', 1).otherwise(0))\n",
    "level1.show()"
   ]
  },
  {
   "cell_type": "code",
   "execution_count": 43,
   "metadata": {},
   "outputs": [
    {
     "name": "stdout",
     "output_type": "stream",
     "text": [
      "+------+---------+-----+\n",
      "|userId|sessionId|count|\n",
      "+------+---------+-----+\n",
      "|    92|      358|   57|\n",
      "|    42|      433|   16|\n",
      "|   101|      635|  708|\n",
      "|   120|      627|  236|\n",
      "|   140|      798|    3|\n",
      "|   122|      691|    6|\n",
      "|    29|     1030|   13|\n",
      "|     8|     1200|   11|\n",
      "|    96|     1653|  133|\n",
      "|   153|     1794|   62|\n",
      "|    97|     2019|   70|\n",
      "|    35|     2270|   10|\n",
      "|   110|     1776|   18|\n",
      "|300011|       60|   27|\n",
      "|   137|      136|    6|\n",
      "|    40|      484|   61|\n",
      "|    35|      544|   13|\n",
      "|    24|      620|    5|\n",
      "|    47|       46|    3|\n",
      "|    85|     1098|   73|\n",
      "+------+---------+-----+\n",
      "only showing top 20 rows\n",
      "\n",
      "+------+------------------+\n",
      "|userId|             songs|\n",
      "+------+------------------+\n",
      "|100010|39.285714285714285|\n",
      "|200002|              64.5|\n",
      "|   125|               8.0|\n",
      "|    51|             211.1|\n",
      "|   124|145.67857142857142|\n",
      "|     7|21.428571428571427|\n",
      "|    54| 81.17142857142858|\n",
      "|    15|136.71428571428572|\n",
      "|   155|136.66666666666666|\n",
      "|100014|42.833333333333336|\n",
      "|   132|             120.5|\n",
      "|   154|              28.0|\n",
      "|   101|             179.7|\n",
      "|    11|           40.4375|\n",
      "|300017|59.540983606557376|\n",
      "|   138|             138.0|\n",
      "|    29| 89.05882352941177|\n",
      "|    69|             125.0|\n",
      "|100021|              46.0|\n",
      "|    42| 87.14634146341463|\n",
      "+------+------------------+\n",
      "only showing top 20 rows\n",
      "\n"
     ]
    }
   ],
   "source": [
    "#feature 3 = number of songs each user has listened \n",
    "songs = df.filter(df.page == \"NextSong\").groupBy('userId','sessionId').count()\n",
    "df.filter(df.page == \"NextSong\").groupBy('userId','sessionId').count().show()\n",
    "songs = songs.groupby('userId').agg({\"count\":\"avg\"})\n",
    "songs = songs.withColumnRenamed(\"avg(count)\", \"songs\")\n",
    "songs.show()"
   ]
  },
  {
   "cell_type": "code",
   "execution_count": 44,
   "metadata": {},
   "outputs": [
    {
     "name": "stdout",
     "output_type": "stream",
     "text": [
      "+------+---------+\n",
      "|userId|thumbs_up|\n",
      "+------+---------+\n",
      "|100010|       17|\n",
      "|200002|       21|\n",
      "|   125|        0|\n",
      "|    51|      100|\n",
      "|   124|      171|\n",
      "|     7|        7|\n",
      "|    54|      163|\n",
      "|    15|       81|\n",
      "|   155|       58|\n",
      "|   132|       96|\n",
      "|   154|       11|\n",
      "|100014|       17|\n",
      "|   101|       86|\n",
      "|    11|       40|\n",
      "|   138|       95|\n",
      "|300017|      303|\n",
      "|    29|      154|\n",
      "|    69|       72|\n",
      "|100021|       11|\n",
      "|    42|      166|\n",
      "+------+---------+\n",
      "only showing top 20 rows\n",
      "\n"
     ]
    }
   ],
   "source": [
    "#feature 4 = number of times thumbs up event was used by each user \n",
    "thumbsup = df.select([\"userId\", \"page\"])\n",
    "thumbsup_event = udf(lambda x: 1 if x == \"Thumbs Up\" else 0, IntegerType())\n",
    "thumbsup = thumbsup.withColumn(\"Thumbs Up\", thumbsup_event(\"page\"))\n",
    "thumbsup = thumbsup.groupby('userId').sum(\"Thumbs Up\")\n",
    "thumbsup = thumbsup.withColumnRenamed(\"sum(Thumbs Up)\", \"thumbs_up\")\n",
    "thumbsup.show()"
   ]
  },
  {
   "cell_type": "code",
   "execution_count": 45,
   "metadata": {},
   "outputs": [
    {
     "name": "stdout",
     "output_type": "stream",
     "text": [
      "+------+-----------+\n",
      "|userId|thumbs_down|\n",
      "+------+-----------+\n",
      "|100010|          5|\n",
      "|200002|          6|\n",
      "|   125|          0|\n",
      "|    51|         21|\n",
      "|   124|         41|\n",
      "|     7|          1|\n",
      "|    54|         29|\n",
      "|    15|         14|\n",
      "|   155|          3|\n",
      "|   132|         17|\n",
      "|   154|          0|\n",
      "|100014|          3|\n",
      "|   101|         16|\n",
      "|    11|          9|\n",
      "|   138|         24|\n",
      "|300017|         28|\n",
      "|    29|         22|\n",
      "|    69|          9|\n",
      "|100021|          5|\n",
      "|    42|         25|\n",
      "+------+-----------+\n",
      "only showing top 20 rows\n",
      "\n"
     ]
    }
   ],
   "source": [
    "#feature 5 = number of times thumbs down event was used by each user \n",
    "thumbsdown = df.select([\"userId\", \"page\"])\n",
    "thumbsdown_event = udf(lambda x: 1 if x == \"Thumbs Down\" else 0, IntegerType())\n",
    "thumbsdown = thumbsdown.withColumn(\"Thumbs Down\", thumbsdown_event(\"page\"))\n",
    "thumbsdown = thumbsdown.groupby('userId').sum(\"Thumbs Down\")\n",
    "thumbsdown = thumbsdown.withColumnRenamed(\"sum(Thumbs Down)\", \"thumbs_down\")\n",
    "thumbsdown.show()"
   ]
  },
  {
   "cell_type": "code",
   "execution_count": 46,
   "metadata": {},
   "outputs": [
    {
     "name": "stdout",
     "output_type": "stream",
     "text": [
      "+------+---+\n",
      "|userId|ads|\n",
      "+------+---+\n",
      "|100010| 52|\n",
      "|200002|  7|\n",
      "|   125|  1|\n",
      "|    51|  0|\n",
      "|   124|  4|\n",
      "|     7| 16|\n",
      "|    54| 47|\n",
      "|    15|  1|\n",
      "|   155|  8|\n",
      "|   132|  2|\n",
      "|   154| 10|\n",
      "|100014|  2|\n",
      "|   101|  8|\n",
      "|    11| 39|\n",
      "|   138| 17|\n",
      "|300017| 11|\n",
      "|    29| 22|\n",
      "|    69|  3|\n",
      "|100021| 30|\n",
      "|    42| 10|\n",
      "+------+---+\n",
      "only showing top 20 rows\n",
      "\n"
     ]
    }
   ],
   "source": [
    "#feature 6 = number of times roll advert event was used by each user \n",
    "ads = df.select([\"userId\", \"page\"])\n",
    "ads_event = udf(lambda x: 1 if x == \"Roll Advert\" else 0, IntegerType())\n",
    "ads = ads.withColumn(\"ads\", ads_event(\"page\"))\n",
    "ads = ads.groupby('userId').sum(\"ads\")\n",
    "ads = ads.withColumnRenamed(\"sum(ads)\", \"ads\")\n",
    "ads.show()"
   ]
  },
  {
   "cell_type": "code",
   "execution_count": 47,
   "metadata": {},
   "outputs": [
    {
     "name": "stdout",
     "output_type": "stream",
     "text": [
      "+------+-------+\n",
      "|userId|artists|\n",
      "+------+-------+\n",
      "|100010|    253|\n",
      "|200002|    340|\n",
      "|   125|      9|\n",
      "|    51|   1386|\n",
      "|   124|   2233|\n",
      "|     7|    143|\n",
      "|    15|   1303|\n",
      "|    54|   1745|\n",
      "|   155|    644|\n",
      "|   132|   1300|\n",
      "|   154|     79|\n",
      "|100014|    234|\n",
      "|   101|   1242|\n",
      "|    11|    535|\n",
      "|   138|   1333|\n",
      "|300017|   2071|\n",
      "|    29|   1805|\n",
      "|    69|    866|\n",
      "|100021|    208|\n",
      "|    42|   2074|\n",
      "+------+-------+\n",
      "only showing top 20 rows\n",
      "\n"
     ]
    }
   ],
   "source": [
    "#feature 7 = count of the different artists each user has listened to \n",
    "artists = df.select(\"userId\", \"artist\").dropDuplicates().groupby(\"userId\").count()\n",
    "artists = artists.withColumnRenamed(\"count\", \"artists\")\n",
    "artists.show()"
   ]
  },
  {
   "cell_type": "code",
   "execution_count": 48,
   "metadata": {},
   "outputs": [
    {
     "name": "stdout",
     "output_type": "stream",
     "text": [
      "+------+-----+\n",
      "|userId|label|\n",
      "+------+-----+\n",
      "|    73|    0|\n",
      "|    19|    0|\n",
      "|100005|    1|\n",
      "|200007|    0|\n",
      "|300007|    1|\n",
      "|    50|    0|\n",
      "|100005|    0|\n",
      "|200002|    0|\n",
      "|    30|    0|\n",
      "|     8|    0|\n",
      "|100011|    1|\n",
      "|100012|    1|\n",
      "|     4|    0|\n",
      "|200018|    0|\n",
      "|    65|    0|\n",
      "|    13|    0|\n",
      "|   101|    1|\n",
      "|   153|    0|\n",
      "|    42|    0|\n",
      "|100014|    1|\n",
      "+------+-----+\n",
      "only showing top 20 rows\n",
      "\n"
     ]
    }
   ],
   "source": [
    "#dependent variable = whether the user churned or not \n",
    "label = df.select(\"userId\", \"churn\").dropDuplicates().groupby(\"userId\", \"churn\").count()\n",
    "label = label.drop('count')\n",
    "label.count()\n",
    "label = label.withColumnRenamed(\"churn\", \"label\")\n",
    "label.show()"
   ]
  },
  {
   "cell_type": "code",
   "execution_count": 51,
   "metadata": {},
   "outputs": [
    {
     "name": "stdout",
     "output_type": "stream",
     "text": [
      "+------+-----+-------------+----+-----+------+------------------+---+-----------+---------+-------+-----+\n",
      "|userId|level|           ts|Rank|level|level1|             songs|ads|thumbs_down|thumbs_up|artists|label|\n",
      "+------+-----+-------------+----+-----+------+------------------+---+-----------+---------+-------+-----+\n",
      "|100010| free|1542823952000|   1| free|     0|39.285714285714285| 52|          5|       17|    253|    0|\n",
      "|100010| free|1542823951000|   2| free|     0|39.285714285714285| 52|          5|       17|    253|    0|\n",
      "|100010| free|1542823682000|   3| free|     0|39.285714285714285| 52|          5|       17|    253|    0|\n",
      "|100010| free|1542823567000|   4| free|     0|39.285714285714285| 52|          5|       17|    253|    0|\n",
      "|100010| free|1542823257000|   5| free|     0|39.285714285714285| 52|          5|       17|    253|    0|\n",
      "|100010| free|1542823248000|   6| free|     0|39.285714285714285| 52|          5|       17|    253|    0|\n",
      "|100010| free|1542822946000|   7| free|     0|39.285714285714285| 52|          5|       17|    253|    0|\n",
      "|100010| free|1542822641000|   8| free|     0|39.285714285714285| 52|          5|       17|    253|    0|\n",
      "|100010| free|1542822434000|   9| free|     0|39.285714285714285| 52|          5|       17|    253|    0|\n",
      "|100010| free|1542822170000|  10| free|     0|39.285714285714285| 52|          5|       17|    253|    0|\n",
      "|100010| free|1542821944000|  11| free|     0|39.285714285714285| 52|          5|       17|    253|    0|\n",
      "|100010| free|1542821943000|  12| free|     0|39.285714285714285| 52|          5|       17|    253|    0|\n",
      "|100010| free|1542821662000|  13| free|     0|39.285714285714285| 52|          5|       17|    253|    0|\n",
      "|100010| free|1542821317000|  14| free|     0|39.285714285714285| 52|          5|       17|    253|    0|\n",
      "|100010| free|1542820950000|  15| free|     0|39.285714285714285| 52|          5|       17|    253|    0|\n",
      "|100010| free|1542820651000|  16| free|     0|39.285714285714285| 52|          5|       17|    253|    0|\n",
      "|100010| free|1542820437000|  17| free|     0|39.285714285714285| 52|          5|       17|    253|    0|\n",
      "|100010| free|1542820180000|  18| free|     0|39.285714285714285| 52|          5|       17|    253|    0|\n",
      "|100010| free|1542820179000|  19| free|     0|39.285714285714285| 52|          5|       17|    253|    0|\n",
      "|100010| free|1542819920000|  20| free|     0|39.285714285714285| 52|          5|       17|    253|    0|\n",
      "+------+-----+-------------+----+-----+------+------------------+---+-----------+---------+-------+-----+\n",
      "only showing top 20 rows\n",
      "\n"
     ]
    }
   ],
   "source": [
    "#creating a new dataframe by joining the above feature dataframes into a single one\n",
    "df = df2.join(level1, [\"userId\"]).join(songs, [\"userId\"]).join(ads, [\"userId\"]).join(thumbsdown, [\"userId\"]).join(thumbsup, [\"userId\"]).join(artists, [\"userId\"]).join(label, [\"userId\"])\n",
    "df.show()"
   ]
  },
  {
   "cell_type": "code",
   "execution_count": 52,
   "metadata": {},
   "outputs": [],
   "source": [
    "df = df.drop('userId')\n",
    "df = df.drop('level')"
   ]
  },
  {
   "cell_type": "code",
   "execution_count": 53,
   "metadata": {},
   "outputs": [
    {
     "name": "stdout",
     "output_type": "stream",
     "text": [
      "+-------------+----+------+------------------+---+-----------+---------+-------+-----+\n",
      "|           ts|Rank|level1|             songs|ads|thumbs_down|thumbs_up|artists|label|\n",
      "+-------------+----+------+------------------+---+-----------+---------+-------+-----+\n",
      "|1542823952000|   1|     0|39.285714285714285| 52|          5|       17|    253|    0|\n",
      "|1542823951000|   2|     0|39.285714285714285| 52|          5|       17|    253|    0|\n",
      "|1542823682000|   3|     0|39.285714285714285| 52|          5|       17|    253|    0|\n",
      "|1542823567000|   4|     0|39.285714285714285| 52|          5|       17|    253|    0|\n",
      "|1542823257000|   5|     0|39.285714285714285| 52|          5|       17|    253|    0|\n",
      "|1542823248000|   6|     0|39.285714285714285| 52|          5|       17|    253|    0|\n",
      "|1542822946000|   7|     0|39.285714285714285| 52|          5|       17|    253|    0|\n",
      "|1542822641000|   8|     0|39.285714285714285| 52|          5|       17|    253|    0|\n",
      "|1542822434000|   9|     0|39.285714285714285| 52|          5|       17|    253|    0|\n",
      "|1542822170000|  10|     0|39.285714285714285| 52|          5|       17|    253|    0|\n",
      "|1542821944000|  11|     0|39.285714285714285| 52|          5|       17|    253|    0|\n",
      "|1542821943000|  12|     0|39.285714285714285| 52|          5|       17|    253|    0|\n",
      "|1542821662000|  13|     0|39.285714285714285| 52|          5|       17|    253|    0|\n",
      "|1542821317000|  14|     0|39.285714285714285| 52|          5|       17|    253|    0|\n",
      "|1542820950000|  15|     0|39.285714285714285| 52|          5|       17|    253|    0|\n",
      "|1542820651000|  16|     0|39.285714285714285| 52|          5|       17|    253|    0|\n",
      "|1542820437000|  17|     0|39.285714285714285| 52|          5|       17|    253|    0|\n",
      "|1542820180000|  18|     0|39.285714285714285| 52|          5|       17|    253|    0|\n",
      "|1542820179000|  19|     0|39.285714285714285| 52|          5|       17|    253|    0|\n",
      "|1542819920000|  20|     0|39.285714285714285| 52|          5|       17|    253|    0|\n",
      "+-------------+----+------+------------------+---+-----------+---------+-------+-----+\n",
      "only showing top 20 rows\n",
      "\n"
     ]
    }
   ],
   "source": [
    "df.show()"
   ]
  },
  {
   "cell_type": "code",
   "execution_count": 54,
   "metadata": {},
   "outputs": [
    {
     "name": "stdout",
     "output_type": "stream",
     "text": [
      "+-------------+----+------+---------+----+-----------+---------+-------+-----+\n",
      "|           ts|Rank|level1|    songs| ads|thumbs_down|thumbs_up|artists|label|\n",
      "+-------------+----+------+---------+----+-----------+---------+-------+-----+\n",
      "|  1.542824E12| 1.0|   0.0|39.285713|52.0|        5.0|     17.0|  253.0|  0.0|\n",
      "|  1.542824E12| 2.0|   0.0|39.285713|52.0|        5.0|     17.0|  253.0|  0.0|\n",
      "|1.54282374E12| 3.0|   0.0|39.285713|52.0|        5.0|     17.0|  253.0|  0.0|\n",
      "|1.54282361E12| 4.0|   0.0|39.285713|52.0|        5.0|     17.0|  253.0|  0.0|\n",
      "|1.54282322E12| 5.0|   0.0|39.285713|52.0|        5.0|     17.0|  253.0|  0.0|\n",
      "|1.54282322E12| 6.0|   0.0|39.285713|52.0|        5.0|     17.0|  253.0|  0.0|\n",
      "|1.54282295E12| 7.0|   0.0|39.285713|52.0|        5.0|     17.0|  253.0|  0.0|\n",
      "|1.54282269E12| 8.0|   0.0|39.285713|52.0|        5.0|     17.0|  253.0|  0.0|\n",
      "|1.54282243E12| 9.0|   0.0|39.285713|52.0|        5.0|     17.0|  253.0|  0.0|\n",
      "|1.54282217E12|10.0|   0.0|39.285713|52.0|        5.0|     17.0|  253.0|  0.0|\n",
      "| 1.5428219E12|11.0|   0.0|39.285713|52.0|        5.0|     17.0|  253.0|  0.0|\n",
      "| 1.5428219E12|12.0|   0.0|39.285713|52.0|        5.0|     17.0|  253.0|  0.0|\n",
      "|1.54282164E12|13.0|   0.0|39.285713|52.0|        5.0|     17.0|  253.0|  0.0|\n",
      "|1.54282138E12|14.0|   0.0|39.285713|52.0|        5.0|     17.0|  253.0|  0.0|\n",
      "|1.54282099E12|15.0|   0.0|39.285713|52.0|        5.0|     17.0|  253.0|  0.0|\n",
      "|1.54282059E12|16.0|   0.0|39.285713|52.0|        5.0|     17.0|  253.0|  0.0|\n",
      "|1.54282046E12|17.0|   0.0|39.285713|52.0|        5.0|     17.0|  253.0|  0.0|\n",
      "| 1.5428202E12|18.0|   0.0|39.285713|52.0|        5.0|     17.0|  253.0|  0.0|\n",
      "| 1.5428202E12|19.0|   0.0|39.285713|52.0|        5.0|     17.0|  253.0|  0.0|\n",
      "|1.54281994E12|20.0|   0.0|39.285713|52.0|        5.0|     17.0|  253.0|  0.0|\n",
      "+-------------+----+------+---------+----+-----------+---------+-------+-----+\n",
      "only showing top 20 rows\n",
      "\n"
     ]
    }
   ],
   "source": [
    "for feature in df.columns:\n",
    "    df = df.withColumn(feature, df[feature].cast('float'))\n",
    "df.show()"
   ]
  },
  {
   "cell_type": "code",
   "execution_count": 55,
   "metadata": {},
   "outputs": [],
   "source": [
    "#importing the CountVectorizer and VectorAssember, Normalizer and StandardScaler to standardize and normalize the features \n",
    "# and create vectors that are formatted in a way that the training algorithms can process them \n",
    "from pyspark.ml.feature import CountVectorizer, IDF, PCA, RegexTokenizer, VectorAssembler, Normalizer, StandardScaler\n"
   ]
  },
  {
   "cell_type": "code",
   "execution_count": 56,
   "metadata": {},
   "outputs": [],
   "source": [
    "assembler = VectorAssembler(inputCols = [\"ts\",\"Rank\", \"songs\",\"ads\", \"thumbs_down\", \"thumbs_up\", \"artists\"], outputCol = \"vec_features\")"
   ]
  },
  {
   "cell_type": "code",
   "execution_count": 57,
   "metadata": {},
   "outputs": [
    {
     "name": "stdout",
     "output_type": "stream",
     "text": [
      "+-------------+----+------+---------+----+-----------+---------+-------+-----+--------------------+\n",
      "|           ts|Rank|level1|    songs| ads|thumbs_down|thumbs_up|artists|label|        vec_features|\n",
      "+-------------+----+------+---------+----+-----------+---------+-------+-----+--------------------+\n",
      "|  1.542824E12| 1.0|   0.0|39.285713|52.0|        5.0|     17.0|  253.0|  0.0|[1.542824001536E1...|\n",
      "|  1.542824E12| 2.0|   0.0|39.285713|52.0|        5.0|     17.0|  253.0|  0.0|[1.542824001536E1...|\n",
      "|1.54282374E12| 3.0|   0.0|39.285713|52.0|        5.0|     17.0|  253.0|  0.0|[1.542823739392E1...|\n",
      "|1.54282361E12| 4.0|   0.0|39.285713|52.0|        5.0|     17.0|  253.0|  0.0|[1.54282360832E12...|\n",
      "|1.54282322E12| 5.0|   0.0|39.285713|52.0|        5.0|     17.0|  253.0|  0.0|[1.542823215104E1...|\n",
      "|1.54282322E12| 6.0|   0.0|39.285713|52.0|        5.0|     17.0|  253.0|  0.0|[1.542823215104E1...|\n",
      "|1.54282295E12| 7.0|   0.0|39.285713|52.0|        5.0|     17.0|  253.0|  0.0|[1.54282295296E12...|\n",
      "|1.54282269E12| 8.0|   0.0|39.285713|52.0|        5.0|     17.0|  253.0|  0.0|[1.542822690816E1...|\n",
      "|1.54282243E12| 9.0|   0.0|39.285713|52.0|        5.0|     17.0|  253.0|  0.0|[1.542822428672E1...|\n",
      "|1.54282217E12|10.0|   0.0|39.285713|52.0|        5.0|     17.0|  253.0|  0.0|[1.542822166528E1...|\n",
      "| 1.5428219E12|11.0|   0.0|39.285713|52.0|        5.0|     17.0|  253.0|  0.0|[1.542821904384E1...|\n",
      "| 1.5428219E12|12.0|   0.0|39.285713|52.0|        5.0|     17.0|  253.0|  0.0|[1.542821904384E1...|\n",
      "|1.54282164E12|13.0|   0.0|39.285713|52.0|        5.0|     17.0|  253.0|  0.0|[1.54282164224E12...|\n",
      "|1.54282138E12|14.0|   0.0|39.285713|52.0|        5.0|     17.0|  253.0|  0.0|[1.542821380096E1...|\n",
      "|1.54282099E12|15.0|   0.0|39.285713|52.0|        5.0|     17.0|  253.0|  0.0|[1.54282098688E12...|\n",
      "|1.54282059E12|16.0|   0.0|39.285713|52.0|        5.0|     17.0|  253.0|  0.0|[1.542820593664E1...|\n",
      "|1.54282046E12|17.0|   0.0|39.285713|52.0|        5.0|     17.0|  253.0|  0.0|[1.542820462592E1...|\n",
      "| 1.5428202E12|18.0|   0.0|39.285713|52.0|        5.0|     17.0|  253.0|  0.0|[1.542820200448E1...|\n",
      "| 1.5428202E12|19.0|   0.0|39.285713|52.0|        5.0|     17.0|  253.0|  0.0|[1.542820200448E1...|\n",
      "|1.54281994E12|20.0|   0.0|39.285713|52.0|        5.0|     17.0|  253.0|  0.0|[1.542819938304E1...|\n",
      "+-------------+----+------+---------+----+-----------+---------+-------+-----+--------------------+\n",
      "only showing top 20 rows\n",
      "\n"
     ]
    }
   ],
   "source": [
    "df = assembler.transform(df)\n",
    "df.show()\n"
   ]
  },
  {
   "cell_type": "code",
   "execution_count": 58,
   "metadata": {},
   "outputs": [
    {
     "name": "stdout",
     "output_type": "stream",
     "text": [
      "+-------------+----+------+---------+----+-----------+---------+-------+-----+--------------------+--------------------+\n",
      "|           ts|Rank|level1|    songs| ads|thumbs_down|thumbs_up|artists|label|        vec_features|            features|\n",
      "+-------------+----+------+---------+----+-----------+---------+-------+-----+--------------------+--------------------+\n",
      "|  1.542824E12| 1.0|   0.0|39.285713|52.0|        5.0|     17.0|  253.0|  0.0|[1.542824001536E1...|[1025.42556008677...|\n",
      "|  1.542824E12| 2.0|   0.0|39.285713|52.0|        5.0|     17.0|  253.0|  0.0|[1.542824001536E1...|[1025.42556008677...|\n",
      "|1.54282374E12| 3.0|   0.0|39.285713|52.0|        5.0|     17.0|  253.0|  0.0|[1.542823739392E1...|[1025.42538585486...|\n",
      "|1.54282361E12| 4.0|   0.0|39.285713|52.0|        5.0|     17.0|  253.0|  0.0|[1.54282360832E12...|[1025.42529873891...|\n",
      "|1.54282322E12| 5.0|   0.0|39.285713|52.0|        5.0|     17.0|  253.0|  0.0|[1.542823215104E1...|[1025.42503739106...|\n",
      "|1.54282322E12| 6.0|   0.0|39.285713|52.0|        5.0|     17.0|  253.0|  0.0|[1.542823215104E1...|[1025.42503739106...|\n",
      "|1.54282295E12| 7.0|   0.0|39.285713|52.0|        5.0|     17.0|  253.0|  0.0|[1.54282295296E12...|[1025.42486315916...|\n",
      "|1.54282269E12| 8.0|   0.0|39.285713|52.0|        5.0|     17.0|  253.0|  0.0|[1.542822690816E1...|[1025.42468892726...|\n",
      "|1.54282243E12| 9.0|   0.0|39.285713|52.0|        5.0|     17.0|  253.0|  0.0|[1.542822428672E1...|[1025.42451469536...|\n",
      "|1.54282217E12|10.0|   0.0|39.285713|52.0|        5.0|     17.0|  253.0|  0.0|[1.542822166528E1...|[1025.42434046346...|\n",
      "| 1.5428219E12|11.0|   0.0|39.285713|52.0|        5.0|     17.0|  253.0|  0.0|[1.542821904384E1...|[1025.42416623156...|\n",
      "| 1.5428219E12|12.0|   0.0|39.285713|52.0|        5.0|     17.0|  253.0|  0.0|[1.542821904384E1...|[1025.42416623156...|\n",
      "|1.54282164E12|13.0|   0.0|39.285713|52.0|        5.0|     17.0|  253.0|  0.0|[1.54282164224E12...|[1025.42399199966...|\n",
      "|1.54282138E12|14.0|   0.0|39.285713|52.0|        5.0|     17.0|  253.0|  0.0|[1.542821380096E1...|[1025.42381776776...|\n",
      "|1.54282099E12|15.0|   0.0|39.285713|52.0|        5.0|     17.0|  253.0|  0.0|[1.54282098688E12...|[1025.42355641991...|\n",
      "|1.54282059E12|16.0|   0.0|39.285713|52.0|        5.0|     17.0|  253.0|  0.0|[1.542820593664E1...|[1025.42329507206...|\n",
      "|1.54282046E12|17.0|   0.0|39.285713|52.0|        5.0|     17.0|  253.0|  0.0|[1.542820462592E1...|[1025.42320795611...|\n",
      "| 1.5428202E12|18.0|   0.0|39.285713|52.0|        5.0|     17.0|  253.0|  0.0|[1.542820200448E1...|[1025.42303372421...|\n",
      "| 1.5428202E12|19.0|   0.0|39.285713|52.0|        5.0|     17.0|  253.0|  0.0|[1.542820200448E1...|[1025.42303372421...|\n",
      "|1.54281994E12|20.0|   0.0|39.285713|52.0|        5.0|     17.0|  253.0|  0.0|[1.542819938304E1...|[1025.42285949231...|\n",
      "+-------------+----+------+---------+----+-----------+---------+-------+-----+--------------------+--------------------+\n",
      "only showing top 20 rows\n",
      "\n"
     ]
    }
   ],
   "source": [
    "scaler = StandardScaler(inputCol=\"vec_features\", outputCol=\"features\", withStd=True)\n",
    "scaler_model = scaler.fit(df)\n",
    "df = scaler_model.transform(df)\n",
    "df.show()"
   ]
  },
  {
   "cell_type": "markdown",
   "metadata": {},
   "source": [
    "# Modeling\n",
    "Split the full dataset into train, test, and validation sets. Test out several of the machine learning methods you learned. Evaluate the accuracy of the various models, tuning parameters as necessary. Determine your winning model based on test accuracy and report results on the validation set. Since the churned users are a fairly small subset, I suggest using F1 score as the metric to optimize."
   ]
  },
  {
   "cell_type": "code",
   "execution_count": null,
   "metadata": {},
   "outputs": [],
   "source": [
    "#splitting the dataset into train, test and validation datasets \n",
    "train, test, valid = df.randomSplit([0.70, 0.15, 0.15], seed = 0)"
   ]
  },
  {
   "cell_type": "code",
   "execution_count": 60,
   "metadata": {},
   "outputs": [],
   "source": [
    "#importing packages for training the ML model \n",
    "from pyspark.ml import Pipeline\n",
    "from pyspark.ml.classification import LogisticRegression, RandomForestClassifier, GBTClassifier\n",
    "from pyspark.ml.evaluation import MulticlassClassificationEvaluator\n",
    "from pyspark.ml.regression import LinearRegression\n",
    "from pyspark.ml.tuning import CrossValidator, ParamGridBuilder"
   ]
  },
  {
   "cell_type": "code",
   "execution_count": 65,
   "metadata": {},
   "outputs": [],
   "source": [
    "#creating objects of LogisticRegression, RandomForestClassifier and GBTClassifier\n",
    "lr = LogisticRegression(featuresCol = 'features', labelCol = 'label', maxIter=10)\n",
    "rfc = RandomForestClassifier(featuresCol = 'features', labelCol = 'label', seed=1)\n",
    "gbtc = GBTClassifier(featuresCol = 'features', labelCol = 'label', maxIter=20, seed=1)"
   ]
  },
  {
   "cell_type": "code",
   "execution_count": 66,
   "metadata": {},
   "outputs": [],
   "source": [
    "#creating an evaluator for evaluating predictions of the model \n",
    "evaluator = MulticlassClassificationEvaluator(labelCol = 'label', predictionCol='prediction')"
   ]
  },
  {
   "cell_type": "code",
   "execution_count": 67,
   "metadata": {},
   "outputs": [
    {
     "name": "stdout",
     "output_type": "stream",
     "text": [
      "F1 for LogisticRegression is: 0.7990064852419884\n",
      "The accuracy of the LogisticRegression model is: 0.8626271396675763\n",
      "F1 for RandomForestClassifier is: 0.7990064852419884\n",
      "The accuracy of the RandomForestClassifier model is: 0.8626271396675763\n",
      "F1 for GBTClassifier is: 0.8222923520016745\n",
      "The accuracy of the GBTClassifier model is: 0.861676176300339\n"
     ]
    }
   ],
   "source": [
    "#training the three models using .fit functions \n",
    "#using transform function getting the predictions from the model for validation data \n",
    "#evaluation and printing the accuracy and F1 score with the model name \n",
    "for model in [lr,rfc,gbtc]:\n",
    "    model_name = model.__class__.__name__\n",
    "    model = model.fit(train)\n",
    "    predictions = model.transform(valid)\n",
    "    print('F1 for {} is:'.format(model_name), evaluator.evaluate(predictions, {evaluator.metricName: \"f1\"}))\n",
    "    accuracy = predictions.filter(predictions.label == predictions.prediction).count() / (predictions.count())\n",
    "    print(\"The accuracy of the {} model is:\".format(model_name), accuracy)"
   ]
  },
  {
   "cell_type": "markdown",
   "metadata": {},
   "source": [
    "# Final Steps\n",
    "Clean up your code, adding comments and renaming variables to make the code easier to read and maintain. Refer to the Spark Project Overview page and Data Scientist Capstone Project Rubric to make sure you are including all components of the capstone project and meet all expectations. Remember, this includes thorough documentation in a README file in a Github repository, as well as a web app or blog post."
   ]
  }
 ],
 "metadata": {
  "kernelspec": {
   "display_name": "Python 3",
   "language": "python",
   "name": "python3"
  },
  "language_info": {
   "codemirror_mode": {
    "name": "ipython",
    "version": 3
   },
   "file_extension": ".py",
   "mimetype": "text/x-python",
   "name": "python",
   "nbconvert_exporter": "python",
   "pygments_lexer": "ipython3",
   "version": "3.8.3"
  }
 },
 "nbformat": 4,
 "nbformat_minor": 2
}
